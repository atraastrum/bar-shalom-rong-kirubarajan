{
 "cells": [
  {
   "cell_type": "markdown",
   "metadata": {},
   "source": [
    "![caption](files/exercise2_2.png)"
   ]
  },
  {
   "cell_type": "markdown",
   "metadata": {},
   "source": [
    "#### 1. Likelihood function"
   ]
  },
  {
   "cell_type": "markdown",
   "metadata": {},
   "source": [
    "$$\\Lambda_{2}(x)=p(Z^{2}|x)=p_{Z^{2}|x}(z_1,z_2|x)=p_{w_1,w_2}(w_1=z_1 - x, w_2=z_2 - x)$$"
   ]
  },
  {
   "cell_type": "markdown",
   "metadata": {},
   "source": [
    "#### 2. MLE of x"
   ]
  },
  {
   "cell_type": "markdown",
   "metadata": {},
   "source": [
    "$$\\hat{x}(z_1,z_2)=argmax\\Lambda_{2}(x)=argmax p(z_1,z_2|x)$$"
   ]
  },
  {
   "cell_type": "markdown",
   "metadata": {},
   "source": [
    "$$ln(p(z_1,z_2|x)) = -\\frac{1}{2}ln(|2\\pi P|) - \\frac{1}{2|P|}((z_1-x)^2 - 2(z_1-x)(z_2-x)\\rho + (z_2-x)^2)$$"
   ]
  },
  {
   "cell_type": "markdown",
   "metadata": {},
   "source": [
    "$$\\frac{dln(p(z_1,z_2|x))}{dx} = \\frac{1}{2|P|}((z_1-x) - (z_2-x)\\rho - (z_1-x)\\rho +(z_1-x))=\\frac{1-\\rho}{|P|}((z_1-x) + (z_2-x))=\\frac{1}{1+\\rho}(z_1 + z_2 - 2x)$$"
   ]
  },
  {
   "cell_type": "markdown",
   "metadata": {},
   "source": [
    "#### 3 CRLB "
   ]
  },
  {
   "cell_type": "markdown",
   "metadata": {},
   "source": [
    "$$\\frac{1}{1+\\rho}(z_1 + z_2 - 2)$$"
   ]
  },
  {
   "cell_type": "code",
   "execution_count": null,
   "metadata": {},
   "outputs": [],
   "source": []
  }
 ],
 "metadata": {
  "kernelspec": {
   "display_name": "Python 3",
   "language": "python",
   "name": "python3"
  },
  "language_info": {
   "codemirror_mode": {
    "name": "ipython",
    "version": 3
   },
   "file_extension": ".py",
   "mimetype": "text/x-python",
   "name": "python",
   "nbconvert_exporter": "python",
   "pygments_lexer": "ipython3",
   "version": "3.7.1"
  }
 },
 "nbformat": 4,
 "nbformat_minor": 2
}
