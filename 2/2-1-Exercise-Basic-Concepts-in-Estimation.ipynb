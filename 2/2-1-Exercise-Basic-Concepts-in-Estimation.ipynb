{
 "cells": [
  {
   "cell_type": "markdown",
   "metadata": {},
   "source": [
    "![caption](files/exercise2_1.png)"
   ]
  },
  {
   "cell_type": "markdown",
   "metadata": {},
   "source": [
    "$$p(x|Z) = \\frac{p(Z|x)p(x)}{p(Z)}$$\n",
    "We consider only a single measurement: $Z={z}$.  \n",
    "$$p_{z|x}(z|x) = p_{w}(z-x) = \\frac{1}{\\sigma\\sqrt{2\\pi}}e^{-\\frac{1}{2\\sigma^2}(z-x)^2}$$\n",
    "\n",
    "$$p_{z}(z)=\\int_{-\\infty}^{\\infty}p_{z|x}(z|x)p_{x}(x)dx=\\frac{1}{\\sigma\\sqrt{2\\pi}}\\sum_{i=1}^{2}p_i\\int_{-\\infty}^{\\infty}\\delta(x-i)e^{-\\frac{1}{2\\sigma^2}(z-x)^2}dx=\\frac{1}{\\sigma\\sqrt{2\\pi}}\\sum_{i=1}^{2}p_ie^{-\\frac{1}{2\\sigma^2}(z-i)^2}$$\n"
   ]
  },
  {
   "cell_type": "markdown",
   "metadata": {},
   "source": [
    "$$p(x|Z)=\\frac{e^{-\\frac{1}{2\\sigma^2}(z-x)^2}\\sum_{i=1}^{2}p_i\\delta(x-i)}{\\sum_{i=1}^{2}p_ie^{-\\frac{1}{2\\sigma^2}(z-i)^2}}$$"
   ]
  },
  {
   "cell_type": "markdown",
   "metadata": {},
   "source": [
    "#### 2. MAP estimate and associated MSE conditioned on $z$"
   ]
  },
  {
   "cell_type": "markdown",
   "metadata": {},
   "source": [
    "$$\\hat{x}^{MAP}(z)=argmax(e^{-\\frac{1}{2}(z-x)^2}\\sum_{i=1}^{2}p_i\\delta(x-i))$$\n",
    "If $e^{-\\frac{1}{2}(z-1)^2}p_1 > e^{-\\frac{1}{2}(z-2)^2}p_2$ then $$\\hat{x}^{MAP} = 1$$\n",
    "else $$\\hat{x}^{MAP} = 2$$"
   ]
  },
  {
   "cell_type": "markdown",
   "metadata": {},
   "source": [
    "$$MSE[\\hat{x}^{MAP}(z)|Z]=E[[\\hat{x}^{MAP}(z)-x]^2|Z]=\\frac{1}{c}\\int_{-\\infty}^{+\\infty}[\\hat{x}^{MAP}(z)-x]^2e^{-\\frac{1}{2\\sigma^2}(z-x)^2}\\sum_{i=1}^{2}p_i\\delta(x-i)dx=\\frac{1}{c}\\sum_{i=1}^{2}p_i[\\hat{x}^{MAP}(z)-i]^2e^{-\\frac{1}{2\\sigma^2}(z-i)^2}$$"
   ]
  },
  {
   "cell_type": "code",
   "execution_count": 21,
   "metadata": {},
   "outputs": [],
   "source": [
    "p1 <- 0.3\n",
    "zth <- function(p1,sigma) {\n",
    "    return (1.5 - sigma^2 * (log(1-p1) - log(p1)))\n",
    "}\n",
    "\n",
    "# Sequence goes in\n",
    "# Sequence goes out\n",
    "mse <- function(sz, p1, sigma) {\n",
    "    stmp1 <- p1 * exp(-0.5 * (sz-1)^2/sigma^2)\n",
    "    stmp2 <- (1 - p1) * exp(-0.5 * (sz - 2)^2/sigma^2)\n",
    "    sc <- stmp1 + stmp2\n",
    "    sxmap <- ifelse(sz < zth(p1,sigma), rep(1,times=length(sz)), rep(2,times=length(sz)))   \n",
    "    stmp3 <- (sxmap-1)^2\n",
    "    stmp4 <- (sxmap-2)^2\n",
    "    return ((stmp1*stmp3+stmp2*stmp4)/sc)\n",
    "}\n",
    "\n",
    "sz = seq(-5,3,0.1)\n",
    "v = mse(sz, p1, 1)"
   ]
  },
  {
   "cell_type": "code",
   "execution_count": 22,
   "metadata": {},
   "outputs": [
    {
     "data": {
      "image/png": "[encoded data removed]",
      "text/plain": [
       "plot without title"
      ]
     },
     "metadata": {},
     "output_type": "display_data"
    }
   ],
   "source": [
    "par(mfrow=c(2, 1))\n",
    "par(mar=c(0, 0, 0, 0))\n",
    "par(pin=c(2,2))\n",
    "par(oma=c(0,0,0,0))\n",
    "plot(sz,v, mfg=c(1,1), xaxt=\"n\", xlab = \"\")\n",
    "plot(sz,\n",
    "     ifelse(sz < zth(p1,1), rep(1,times=length(sz)), rep(2,times=length(sz))), \n",
    "     mfg=c(2,1),\n",
    "     ylab=\"MAP estimate\")"
   ]
  },
  {
   "cell_type": "markdown",
   "metadata": {},
   "source": [
    "#### 3. MMSE estimate and associated variance  "
   ]
  },
  {
   "cell_type": "markdown",
   "metadata": {},
   "source": [
    "$$\\hat{x}^{MMSE}(z)=E[x|z]=\\int_{-\\infty}^{\\infty}xp(x|z)dx = \\frac{1}{c}\\int_{-\\infty}^{\\infty}xe^{-\\frac{1}{2\\sigma^2}(z-x)^2}\\sum_{i=1}^{2}p_i\\delta(x-i)dx=\\frac{1}{c}\\sum_{i=1}^{2}ip_ie^{-\\frac{1}{2\\sigma^2}(z-i)^2}$$"
   ]
  },
  {
   "cell_type": "code",
   "execution_count": 13,
   "metadata": {},
   "outputs": [
    {
     "data": {
      "image/png": "[encoded data removed]",
      "text/plain": [
       "plot without title"
      ]
     },
     "metadata": {},
     "output_type": "display_data"
    }
   ],
   "source": [
    "mmse = function(sz,p1,sigma){\n",
    "    stmp1 <- p1 * exp(-0.5 * (sz-1)^2/sigma^2)\n",
    "    stmp2 <- (1 - p1) * exp(-0.5 * (sz - 2)^2/sigma^2)\n",
    "    sc <- stmp1 + stmp2\n",
    "    return ((stmp1 + 2 * stmp2)/sc)\n",
    "}\n",
    "sz = seq(-7,7,0.3)\n",
    "plot(sz,\n",
    "     mmse(sz,p1,1), \n",
    "     ylab=\"MMSE\")"
   ]
  },
  {
   "cell_type": "markdown",
   "metadata": {},
   "source": [
    "> Note: Mean and mode of Gaussian pdf coincide. For that reason MAP and MMSE for Gaussian pdf coincide. For this example psoterior pdf is not Gaussian. Notice still that MAP and MMSE estimators are very similar.    "
   ]
  },
  {
   "cell_type": "markdown",
   "metadata": {},
   "source": [
    "$$var(x|z)=E[[x-\\hat{x}^{MMSE}(z)]^2|z] = \\int_{-\\infty}^{\\infty}[x-\\frac{1}{c}\\sum_{i=1}^{2}ip_ie^{-\\frac{1}{2\\sigma^2}(z-i)^2}]^2\\frac{e^{-\\frac{1}{2\\sigma^2}(z-x)^2}\\sum_{i=1}^{2}p_i\\delta(x-i)}{c}dx = \\frac{\\sum_{i=1}^{2}[p_ie^{-\\frac{1}{2\\sigma^2}(z-i)^2}[i-\\frac{1}{c}\\sum_{i=1}^{2}ip_ie^{-\\frac{1}{2\\sigma^2}(z-i)^2}]^2]}{c} $$  "
   ]
  },
  {
   "cell_type": "code",
   "execution_count": 25,
   "metadata": {},
   "outputs": [
    {
     "data": {
      "image/png": "[encoded data removed]",
      "text/plain": [
       "plot without title"
      ]
     },
     "metadata": {},
     "output_type": "display_data"
    }
   ],
   "source": [
    "cond_mse_mmse = function(sz,p1,sigma) {\n",
    "    stmp1 <- p1 * exp(-0.5 * (sz-1)^2/sigma^2)\n",
    "    stmp2 <- (1 - p1) * exp(-0.5 * (sz - 2)^2/sigma^2)\n",
    "    sc <- stmp1 + stmp2\n",
    "    stmp3 = mmse(sz,p1,sigma)\n",
    "    return ( ((stmp1 * (1-stmp3)^2) + (stmp2 * (2-stmp3)^2))/sc )\n",
    "}\n",
    "sz = seq(-7,7,0.3)\n",
    "plot(sz,\n",
    "     cond_mse_mmse(sz,p1,1), \n",
    "     ylab=\"var(x|z)\")"
   ]
  },
  {
   "cell_type": "markdown",
   "metadata": {},
   "source": [
    "#### 4 Evaluation of estimates"
   ]
  },
  {
   "cell_type": "code",
   "execution_count": null,
   "metadata": {},
   "outputs": [],
   "source": []
  }
 ],
 "metadata": {
  "kernelspec": {
   "display_name": "R",
   "language": "R",
   "name": "ir"
  },
  "language_info": {
   "codemirror_mode": "r",
   "file_extension": ".r",
   "mimetype": "text/x-r-source",
   "name": "R",
   "pygments_lexer": "r",
   "version": "3.5.1"
  }
 },
 "nbformat": 4,
 "nbformat_minor": 2
}
